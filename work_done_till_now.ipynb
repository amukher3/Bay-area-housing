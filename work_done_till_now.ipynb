{
 "cells": [
  {
   "cell_type": "code",
   "execution_count": 416,
   "metadata": {},
   "outputs": [],
   "source": [
    "props=list()\n",
    "propDict={'Price':'','Location':'','Bedrooms':'','Area':''}\n",
    "lastCopy=propDict.copy()\n",
    "countDec=0\n",
    "tempCount=[]\n",
    "tempBath=[]\n",
    "tempBath2=[]\n",
    "#finList=[]\n",
    "\n",
    "import requests\n",
    "import re\n",
    "from bs4 import BeautifulSoup\n",
    "\n",
    "for i in range(0,3000,120):\n",
    "    \n",
    "    res=requests.get(f'https://sfbay.craigslist.org/search/apa?s={i}')\n",
    "    soup=BeautifulSoup(res.text,'html.parser')\n",
    "    finList=[]\n",
    "    tempPrime=[]\n",
    "    \n",
    "    for count,tempStr in enumerate(soup.select('.result-info')):\n",
    "        temp=[]\n",
    "        temp=re.findall('[\\d]+ft',str(tempStr))\n",
    "        if temp!=[]:\n",
    "            propDict.update({'Area':int(temp[0].replace('ft',''))})\n",
    "        else:  \n",
    "            propDict['Area']='None'\n",
    "            \n",
    "############################################################################## \n",
    "\n",
    "        tempPrime=[]\n",
    "    \n",
    "        matPatrn='[a-zA-Z]*\\s*studio\\s*[a-zA-Z]*'\n",
    "        tempPrime=re.findall(matPatrn,str(tempStr).lower(),flags=re.IGNORECASE)\n",
    "        \n",
    "        removWordsPrime=['estudio','estudio de','from studio']\n",
    "        \n",
    "        if tempPrime!=[] and tempPrime not in removWordsPrime:\n",
    "            propDict['Is Studio']='Yes'\n",
    "        else:\n",
    "            propDict['Is Studio']='NA'\n",
    "            \n",
    "############################################################################\n",
    "        matPatrn='[a-zA-Z0-9]*\\s*patio\\s*[a-zA-Z0-9]*'\n",
    "    \n",
    "        takeWords={'private':'Has a Private patio','Private':'Has a Private patio',\n",
    "                   'Large':'Has a Large patio','enclosed':'Has a Enclosed Patio',\n",
    "                   'large':'Has a Large Patio',\n",
    "                   'Spacious':'Has a Spacious patio'}\n",
    "        \n",
    "        tempPrime=[]\n",
    "        tempPrime=re.findall(matPatrn,str(tempStr).lower(),flags=re.IGNORECASE)\n",
    "        \n",
    "        if tempPrime!=[]:\n",
    "            flag=0\n",
    "            for j in tempPrime:\n",
    "                tempLst=[]\n",
    "                tempLst=j.split(' ')\n",
    "                for idx in tempLst:\n",
    "                    idx=idx.replace(' ','')\n",
    "                    for idx2 in takeWords.keys():\n",
    "                        if idx2==idx:\n",
    "                            propDict['Patio']=takeWords[idx2]\n",
    "                            flag=1\n",
    "                            break\n",
    "                    break      \n",
    "            if flag!=1:\n",
    "                propDict['Patio']='Has Patio'\n",
    "        else:\n",
    "            propDict['Patio']='NA'\n",
    "            \n",
    "################################################################################ \n",
    "\n",
    "        initMatPatrn='WE ♥ PETS|pets are [a-z,A-Z]+|Pets are [a-z,A-Z]+|Pets [a-z,A-Z]+|pets [a-z,A-Z]+|Pet [a-z,A-Z]+|pet [a-z,A-Z]+'\n",
    "\n",
    "        temp4=[]\n",
    "        temp4=re.findall(initMatPatrn,str(tempStr))\n",
    "        \n",
    "        if temp4!=[]:\n",
    "            if temp4[0]=='peting' or temp4[0]=='petaluma' :\n",
    "                propDict['Pet friendly']='NA'\n",
    "            else:\n",
    "                if 'Pet Deposit,' not in temp4:\n",
    "                    propDict['Pet friendly']='Yes' \n",
    "        else:\n",
    "            propDict['Pet friendly']='NA'\n",
    "\n",
    "################################################################################\n",
    "\n",
    "        temp1=[]\n",
    "    \n",
    "        temp1=re.findall('\"result-price\">\\S*(\\$[\\d]+)',str(tempStr))\n",
    "        if temp1!=[]:\n",
    "            temp2=temp1[0].strip('$')\n",
    "            propDict.update({'Price':int(temp2)})\n",
    "        else:  \n",
    "            propDict['Price']='None'\n",
    "            \n",
    "################################################################################## \n",
    "\n",
    "        temp2=[]\n",
    "        temp2=re.findall('<span class=\"result-hood\">([\\a-z]+)</span>\\n<span class=\"result-tags\">',str(tempStr))\n",
    "        if temp2!=[]:\n",
    "            temp3=temp2[0].strip('()')\n",
    "            propDict.update({'Location':temp3})\n",
    "        else:  \n",
    "            propDict['Location']='None'\n",
    "            \n",
    "##################################################################################  \n",
    "\n",
    "        temp3=[]\n",
    "        matPatt='[\\d]br |[\\d]BR |[\\d]Bedroom |[\\d]bedroom |[\\d] BR|[\\d] br|[\\d] bedroom|[\\d] Bedroom'\n",
    "        temp3=re.findall(matPatt,str(tempStr))\n",
    "        \n",
    "        if temp3!=[]:\n",
    "            temp4=temp3[0].replace('br','').replace(' ','')\n",
    "            if len(temp4)>2 and len(temp4)<8:\n",
    "                temp4=temp3[0].replace('BR','').replace(' ','')\n",
    "            if len(temp4)>=8:\n",
    "                temp4=temp3[0].replace('bedroom','').replace(' ','')\n",
    "            if len(temp4)>=8:\n",
    "                temp4=temp3[0].replace('Bedroom','').replace(' ','')\n",
    "            propDict.update({'Bedrooms':int(temp4)})\n",
    "            tempCount.append(int(temp4))\n",
    "        else:  \n",
    "            propDict['Bedrooms']='None'\n",
    "            \n",
    "###################################################################################            \n",
    "            \n",
    "        temp4=[] \n",
    "        initMatPat=\\\n",
    "        '[\\d] Baths|[\\d] baths|[\\d]Bath|[\\d] BA|[\\d] ba|[\\d]BA|[\\d]ba|[\\d] baths|[\\d]baths|[\\d]Baths|[\\d] bath|[\\d]] Bath|[\\d]bath|[\\d]Bath|[\\d]-ba|[\\d]-BA|\\d\\.\\dBath|\\d\\.\\d Bath|\\d\\.\\dbath|\\d\\.\\d bath|\\d\\.\\d BA|\\d\\.\\d ba|\\d\\.\\d-BA|\\d\\.\\d-ba|\\d\\.\\dBA|\\d\\.\\dba'\n",
    "        temp4=re.findall(initMatPat,str(tempStr))\n",
    "    \n",
    "        if temp4!=[]:\n",
    "            temp5=temp4[0]\n",
    "            matPatrn='Baths|baths|Bath|bath|ba|BA'\n",
    "            tempPrime=temp5.replace(' ','').replace('-','')\n",
    "            tempLst=re.sub(matPatrn,'',tempPrime)\n",
    "            if float(tempLst)!=5.0:\n",
    "                tempBath.append(float(tempLst))\n",
    "                propDict.update({'Baths':float(tempLst)})   \n",
    "        else:\n",
    "            propDict['Baths']='None'\n",
    "            \n",
    "######################################################################################           \n",
    "            \n",
    "        initMatPatrn='[a-zA-z0-9]*\\s*kitchen\\s*[a-zA-Z0-9]*|\\W*\\s*kitchen\\s*\\W*|[a-zA-z0-9]*\\-kitchen\\-[a-zA-Z0-9]*|[a-zA-z0-9]*\\W*kitchen\\W*[a-zA-Z0-9]*'\n",
    "        tempkitchen=[]\n",
    "        removWords=\\\n",
    "        ['and','your','necessities','in','mountain','with','dryer','available','s','w','ette','studiofull', 'd','high','this','milpitas','s','in','','that','wow','Bath','dryer','WITH','','sunnyhuge','|storage|has','jacuzzi','AVAILABLE•','amp; (ingleside','S','space• has','Concept','end','patio:: has',' (ingleside','• Bright living space • Kitchen has it all']\n",
    "        matPatrn='\\|\\+|/|\\-|\\d{2}|1br'  \n",
    "        matPatrn2='Kitchen|Kitchens|kitchen|kitchens'\n",
    "        tempCounter=[]\n",
    "        temp=[]\n",
    "        temp=re.findall(initMatPatrn,str(tempStr),flags=re.IGNORECASE)\n",
    "       \n",
    "        \n",
    "        if temp!=[]:\n",
    "            tempCounter.append(count)\n",
    "            temp1=''\n",
    "            temp2=''\n",
    "            temp3=''\n",
    "            temp1=re.sub(matPatrn,' ',temp[0])\n",
    "            temp2=re.sub(matPatrn2,'####',temp1,flags=re.IGNORECASE)\n",
    "            temp3=re.split('####',temp2)\n",
    "            tempLst=[]\n",
    "            \n",
    "            for j in temp3:\n",
    "                jPrime=''\n",
    "                jPrime=j.replace(' ','').replace(',','')\n",
    "                if jPrime not in removWords:\n",
    "                    tempLst.append(jPrime) \n",
    "                    \n",
    "            finList=[] \n",
    "            if 'bbqs'in tempLst or 'chefs' in tempLst or 'stainless' in tempLst:\n",
    "                finList.append(tempLst)\n",
    "            else:\n",
    "                if len(tempLst)!=0:\n",
    "                    finList.append(' '.join(tempLst))\n",
    "                else:\n",
    "                    finList.append('NA')         \n",
    "            propDict['Kitchen attraction']=finList\n",
    "        else:\n",
    "            propDict['Kitchen attraction']='NA'\n",
    "            \n",
    "            \n",
    "##########################################################################################\n",
    "\n",
    "        finList=[]\n",
    "    \n",
    "        #Taking care of multiple same ads\n",
    "        if lastCopy!=propDict:\n",
    "            props.append(propDict.copy())\n",
    "            lastCopy=propDict.copy()\n",
    "        else:\n",
    "            countDec+=1\n",
    "            continue\n",
    "    \n",
    "    \n",
    "               \n"
   ]
  },
  {
   "cell_type": "code",
   "execution_count": 323,
   "metadata": {},
   "outputs": [
    {
     "name": "stdout",
     "output_type": "stream",
     "text": [
      "<p class=\"result-info\">\n",
      "<span class=\"icon icon-star\" role=\"button\">\n",
      "<span class=\"screen-reader-text\">favorite this post</span>\n",
      "</span>\n",
      "<time class=\"result-date\" datetime=\"2020-06-03 16:54\" title=\"Wed 03 Jun 04:54:29 PM\">Jun  3</time>\n",
      "<a class=\"result-title hdrlnk\" data-id=\"7132601665\" href=\"https://sfbay.craigslist.org/eby/apa/d/richmond-san-pablo-area-large-patio-1br/7132601665.html\">San Pablo area :: Large patio :: 1BR 1BA apt :: Generous closet</a>\n",
      "<span class=\"result-meta\">\n",
      "<span class=\"result-price\">$1725</span>\n",
      "<span class=\"housing\">\n",
      "                    1br -\n",
      "                    650ft<sup>2</sup> -\n",
      "                </span>\n",
      "<span class=\"result-hood\"> (hercules, pinole, san pablo, el sob)</span>\n",
      "<span class=\"result-tags\">\n",
      "<span class=\"pictag\">pic</span>\n",
      "</span>\n",
      "<span class=\"banish icon icon-trash\" role=\"button\">\n",
      "<span class=\"screen-reader-text\">hide this posting</span>\n",
      "</span>\n",
      "<span aria-hidden=\"true\" class=\"unbanish icon icon-trash red\" role=\"button\"></span>\n",
      "<a class=\"restore-link\" href=\"#\">\n",
      "<span class=\"restore-narrow-text\">restore</span>\n",
      "<span class=\"restore-wide-text\">restore this posting</span>\n",
      "</a>\n",
      "</span>\n",
      "</p>\n"
     ]
    }
   ],
   "source": [
    "res=requests.get(f'https://sfbay.craigslist.org/search/apa?s={1320}')\n",
    "soup=BeautifulSoup(res.text,'html.parser')\n",
    "\n",
    "tempStr=soup.select('.result-info')   \n",
    "print(tempStr[89])"
   ]
  },
  {
   "cell_type": "code",
   "execution_count": 417,
   "metadata": {},
   "outputs": [
    {
     "data": {
      "image/png": "[encoded data removed]",
      "text/plain": [
       "<Figure size 432x288 with 1 Axes>"
      ]
     },
     "metadata": {
      "needs_background": "light"
     },
     "output_type": "display_data"
    }
   ],
   "source": [
    "tempPrice=[]\n",
    "tempArea=[]\n",
    "for i in props:\n",
    "    \n",
    "    if i['Price']!='None' and i['Area']!='None' and i['Area']<8000:\n",
    "        tempPrice.append(i['Price'])\n",
    "        tempArea.append(i['Area'])\n",
    "    #print(tempArea)\n",
    "    \n",
    "    \n",
    "import matplotlib.pyplot as plt\n",
    "plt.scatter(tempPrice,tempArea)\n",
    "plt.show()"
   ]
  },
  {
   "cell_type": "code",
   "execution_count": 418,
   "metadata": {},
   "outputs": [
    {
     "data": {
      "image/png": "[encoded data removed]",
      "text/plain": [
       "<Figure size 432x288 with 1 Axes>"
      ]
     },
     "metadata": {
      "needs_background": "light"
     },
     "output_type": "display_data"
    }
   ],
   "source": [
    "tempPrice=[]\n",
    "tempBedrooms=[]\n",
    "\n",
    "for i in props:\n",
    "     if i['Price']!='None' and i['Bedrooms']!='None' and i['Baths']!='None' and i['Bedrooms']<7:\n",
    "        tempPrice.append(i['Price'])\n",
    "        tempBedrooms.append(i['Bedrooms'])\n",
    "        \n",
    "import matplotlib.pyplot as plt\n",
    "plt.scatter(tempPrice,tempBedrooms)\n",
    "plt.show()"
   ]
  },
  {
   "cell_type": "code",
   "execution_count": 419,
   "metadata": {},
   "outputs": [
    {
     "name": "stdout",
     "output_type": "stream",
     "text": [
      "{'Has Studio': 472274, '1 Bed': 2727842, '2 Bed': 3232165, '3 Bed': 1277257, '4 Bed': 472702, '5 Bed': 148629}\n",
      "{'Has Studio': 225, '1 Bed': 1104, '2 Bed': 1057, '3 Bed': 305, '4 Bed': 88, '5 Bed': 24}\n"
     ]
    },
    {
     "data": {
      "image/png": "[encoded data removed]",
      "text/plain": [
       "<Figure size 432x288 with 1 Axes>"
      ]
     },
     "metadata": {
      "needs_background": "light"
     },
     "output_type": "display_data"
    }
   ],
   "source": [
    "#might have to fork this later if the distn. over #beds change\n",
    "#drastically.Might have to use brute force conditioning instead \n",
    "#of the dict. approach. \n",
    "\n",
    "bedDict={'Has Studio':0,'1 Bed':0,'2 Bed':0,'3 Bed':0,'4 Bed':0,'5 Bed':0}\n",
    "bedCount={'Has Studio':0,'1 Bed':0,'2 Bed':0,'3 Bed':0,'4 Bed':0,'5 Bed':0}\n",
    "matDict={1:'1 Bed',2:'2 Bed',3:'3 Bed',4:'4 Bed',5:'5 Bed'}\n",
    "\n",
    "for i in props:\n",
    "    if i['Bedrooms']!='None' and i['Bedrooms']<6:\n",
    "        bedDict[matDict[i['Bedrooms']]]+=i['Price']\n",
    "        bedCount[matDict[i['Bedrooms']]]+=1\n",
    "    \n",
    "    if i['Is Studio']=='Yes':\n",
    "        bedDict['Has Studio']+=i['Price']\n",
    "        bedCount['Has Studio']+=1\n",
    "    \n",
    "print(bedDict)\n",
    "print(bedCount)\n",
    "\n",
    "tempPrice=list(bedDict.values())\n",
    "tempBed=list(bedCount.values())\n",
    "tempCount=list(bedCount.keys())\n",
    "\n",
    "for i in range(len(tempBed)):\n",
    "    if tempBed[i]==0:\n",
    "        tempBed.remove(tempBed[i])\n",
    "        tempPrice.remove(tempPrice[i]) \n",
    "        tempCount.remove(temp2[i])\n",
    "        break\n",
    "\n",
    "temp=list(map(lambda tempPrice,tempCount:tempPrice/tempCount,tempPrice,tempBed))\n",
    "\n",
    "plt.figure()\n",
    "plt.bar(tempCount,temp)\n",
    "plt.title('Average price of houses with different # of bedrooms')\n",
    "plt.show()"
   ]
  },
  {
   "cell_type": "code",
   "execution_count": 420,
   "metadata": {},
   "outputs": [
    {
     "data": {
      "image/png": "[encoded data removed]",
      "text/plain": [
       "<Figure size 432x288 with 1 Axes>"
      ]
     },
     "metadata": {
      "needs_background": "light"
     },
     "output_type": "display_data"
    }
   ],
   "source": [
    "tempPrice=[]\n",
    "tempBedrooms=[]\n",
    "tempBathsBeds=[]\n",
    "\n",
    "for i in props:\n",
    "    if i['Price']!='None' and i['Bedrooms']!='None' and i['Baths']!='None' and i['Bedrooms']<7:\n",
    "        tempPrice.append(i['Price'])\n",
    "        tempBathsBeds.append(i['Baths']+i['Bedrooms'])\n",
    "    \n",
    "plt.scatter(tempPrice,tempBathsBeds)\n",
    "plt.xlabel('Price in USD')\n",
    "plt.ylabel('Total number')\n",
    "plt.title('Scatter plot for Prices vs. Num.of Bedrooms+Num. of Bathrooms in the house')\n",
    "plt.show()"
   ]
  },
  {
   "cell_type": "code",
   "execution_count": 421,
   "metadata": {},
   "outputs": [],
   "source": [
    "tempPrice=[]\n",
    "tempPriceWdKitchen=[]\n",
    "tempPriceWdKitchenPet=[]\n",
    "\n",
    "for i in props:\n",
    "    tempPrice.append(i['Price'])\n",
    "    if i['Kitchen attraction']!='NA':\n",
    "        tempPriceWdKitchen.append(i['Price'])\n",
    "    if i['Kitchen attraction']!='NA' and i['Pet friendly']!='NA':\n",
    "        tempPriceWdKitchenPet.append(i['Price'])\n"
   ]
  },
  {
   "cell_type": "code",
   "execution_count": 422,
   "metadata": {},
   "outputs": [
    {
     "name": "stdout",
     "output_type": "stream",
     "text": [
      "Average price of houses 2959.9234417344173\n",
      "Average price for a house with some kitchen attraction 2655.253164556962\n",
      "Average price with some kitchen attraction and a pet friendly house 2975.0\n"
     ]
    }
   ],
   "source": [
    "import numpy as np\n",
    "\n",
    "print(f'Average price of houses {np.mean(tempPrice)}')\n",
    "print(f'Average price for a house with some kitchen attraction {np.mean(tempPriceWdKitchen)}')\n",
    "print(f'Average price with some kitchen attraction and a pet friendly house {np.mean(tempPriceWdKitchenPet)}')"
   ]
  },
  {
   "cell_type": "code",
   "execution_count": 423,
   "metadata": {},
   "outputs": [],
   "source": [
    "tempKitchen=[]\n",
    "kitchenType={'Modern':0,'Upgraded':0,'LUX':0,'Deluxe':0,'Granite Island':0,'Maker Island':0}\n",
    "countType={'Modern':0,'Upgraded':0,'LUX':0,'Deluxe':0,'Granite Island':0,'Maker Island':0}\n",
    "\n",
    "for i in props:\n",
    "    \n",
    "    if i['Kitchen attraction'][0]=='Modern' or i['Kitchen attraction'][0]=='modern':\n",
    "        kitchenType['Modern']+=i['Price']\n",
    "        countType['Modern']+=1\n",
    "        \n",
    "    elif i['Kitchen attraction'][0]=='Upgraded' or i['Kitchen attraction'][0]=='upgraded':\n",
    "        kitchenType['Upgraded']+=i['Price']\n",
    "        countType['Upgraded']+=1\n",
    "        \n",
    "    elif i['Kitchen attraction'][0]=='Maker Island':\n",
    "        kitchenType['Maker Island']+=i['Price']\n",
    "        countType['Maker Island']+=1\n",
    "        \n",
    "    elif i['Kitchen attraction'][0]=='Deluxe' or i['Kitchen attraction'][0]=='deluxe':\n",
    "        kitchenType['Deluxe']+=i['Price']\n",
    "        countType['Deluxe']+=1\n",
    "        \n",
    "    elif i['Kitchen attraction'][0]=='Granite Island' or i['Kitchen attraction'][0]=='granite island':\n",
    "        kitchenType['Granite Island']+=i['Price']\n",
    "        countType['Granite Island']+=1\n",
    "        \n",
    "    elif i['Kitchen attraction'][0]=='LUX' or i['Kitchen attraction'][0]=='LUX':\n",
    "        kitchenType['LUX']+=i['Price'] \n",
    "        countType['LUX']+=1\n",
    "    \n",
    "        \n",
    "        \n",
    "        \n"
   ]
  },
  {
   "cell_type": "code",
   "execution_count": 424,
   "metadata": {},
   "outputs": [
    {
     "data": {
      "image/png": "[encoded data removed]",
      "text/plain": [
       "<Figure size 432x288 with 1 Axes>"
      ]
     },
     "metadata": {
      "needs_background": "light"
     },
     "output_type": "display_data"
    },
    {
     "data": {
      "text/plain": [
       "Text(0.5, 1.0, 'Distribution of average price of houses with different types of kitchens')"
      ]
     },
     "execution_count": 424,
     "metadata": {},
     "output_type": "execute_result"
    },
    {
     "data": {
      "image/png": "[encoded data removed]",
      "text/plain": [
       "<Figure size 432x288 with 1 Axes>"
      ]
     },
     "metadata": {
      "needs_background": "light"
     },
     "output_type": "display_data"
    }
   ],
   "source": [
    "#for the total price of every kitchen\n",
    "tempKitchen=list(kitchenType.values())\n",
    "\n",
    "#for the count of differnet types of kitchen\n",
    "tempCount=list((countType.values()))\n",
    "\n",
    "#for the different types of kitchen\n",
    "tempNames=list(kitchenType.keys())\n",
    "\n",
    "for i in range(len(tempCount)):\n",
    "    if tempCount[i]==0:\n",
    "        tempCount.remove(tempCount[i])\n",
    "        tempKitchen.remove(tempKitchen[i]) \n",
    "        tempNames.remove(tempNames[i])\n",
    "        break\n",
    "        \n",
    "temp=map(lambda tempKitchen,tempCount:tempKitchen/tempCount,tempKitchen,tempCount)\n",
    "\n",
    "#Frequency of the differnet types:\n",
    "plt.figure()\n",
    "plt.bar(tempNames,tempCount)\n",
    "plt.title('Distribution of the various types of kitchen')\n",
    "plt.show()\n",
    "\n",
    "#Distribution of average price:\n",
    "plt.figure()\n",
    "plt.bar(tempNames,list(temp))\n",
    "plt.title('Distribution of average price of houses with different types of kitchens')\n"
   ]
  },
  {
   "cell_type": "code",
   "execution_count": 425,
   "metadata": {},
   "outputs": [
    {
     "data": {
      "image/png": "[encoded data removed]",
      "text/plain": [
       "<Figure size 432x288 with 1 Axes>"
      ]
     },
     "metadata": {
      "needs_background": "light"
     },
     "output_type": "display_data"
    }
   ],
   "source": [
    "#Relationship between studio--kitchen attraction: \n",
    "#None are studio apartments hence #bedrooms are 'none'\n",
    "#Might have to fork this later if the #beds in the ads change\n",
    "#drastically.\n",
    "#Brute force conditioning might turn out to be a better option later. \n",
    "\n",
    "matDict={'Has Studio':'Studio',1:'1 Bed',2:'2 Bed',3:'3 Bed',4:'4 Bed'}\n",
    "bedDict={'Studio':0,'1 Bed':0,'2 Bed':0,'3 Bed':0,'4 Bed':0}\n",
    "\n",
    "for i in props:\n",
    "    if i['Patio']!='NA':\n",
    "        if i['Bedrooms']=='None':\n",
    "            bedDict['Studio']+=1\n",
    "        else:\n",
    "            temp=i['Bedrooms']\n",
    "            bedDict[matDict[temp]]+=1\n",
    "            \n",
    "        \n",
    "keys=list(bedDict.keys())\n",
    "vals=list(bedDict.values())\n",
    "\n",
    "plt.figure()\n",
    "plt.bar(keys,vals)\n",
    "plt.title('Distribution of number of Bedrooms with houses having a Patio')\n",
    "plt.show()\n",
    "\n",
    "\n"
   ]
  },
  {
   "cell_type": "code",
   "execution_count": 426,
   "metadata": {},
   "outputs": [
    {
     "data": {
      "image/png": "[encoded data removed]",
      "text/plain": [
       "<Figure size 432x288 with 1 Axes>"
      ]
     },
     "metadata": {
      "needs_background": "light"
     },
     "output_type": "display_data"
    },
    {
     "data": {
      "image/png": "[encoded data removed]",
      "text/plain": [
       "<Figure size 432x288 with 1 Axes>"
      ]
     },
     "metadata": {
      "needs_background": "light"
     },
     "output_type": "display_data"
    }
   ],
   "source": [
    "#All about Patios\n",
    "#Fork this cell if it starts erroring because of the split\n",
    "#Use separate conditions for the different names instead the\n",
    "#current approach.\n",
    "#Check after few days.\n",
    "\n",
    "tempPatio=[]\n",
    "tempLst=[]\n",
    "matPatrn='\\sa\\s'\n",
    "\n",
    "priceDict={'Normal Patio':0,'Large Patio':0,'Private patio':0,'Enclosed Patio':0}\n",
    "countDict={'Normal Patio':0,'Large Patio':0,'Private patio':0,'Enclosed Patio':0}\n",
    "\n",
    "for i in props:\n",
    "    if i['Patio']!='NA':\n",
    "        temp=i['Patio']\n",
    "        \n",
    "        if temp=='Has Patio':\n",
    "            tempPatio.append('Normal Patio')\n",
    "            priceDict['Normal Patio']+=i['Price']\n",
    "            countDict['Normal Patio']+=1\n",
    "        else:    \n",
    "            tempLst=re.split(matPatrn,temp)\n",
    "            priceDict[tempLst[1]]+=i['Price']\n",
    "            countDict[tempLst[1]]+=1\n",
    "            tempPatio.append(tempLst[1])\n",
    "            \n",
    "            \n",
    "#Analyzing the counts:\n",
    "temp=[]\n",
    "tempCounts=list(countDict.values())\n",
    "tempPrice=list(priceDict.values())\n",
    "tempNames=list(priceDict.keys())\n",
    "\n",
    "[temp.append(i) for i in range(len(tempCounts)) if tempCounts[i]==0]\n",
    "\n",
    "for i in temp: \n",
    "    tempCounts.remove(tempCounts[i])\n",
    "    tempPrice.remove(tempPrice[i])\n",
    "    tempNames.remove(tempNames[i])\n",
    "    \n",
    "tempPrime=list(map(lambda tempCounts,tempPrice: tempPrice/tempCounts,tempCounts,tempPrice))\n",
    "\n",
    "\n",
    "#Distribution of the frequency of occurences\n",
    "plt.hist(tempPatio)\n",
    "plt.title('Distribution of the various types of Patios')\n",
    "plt.show()\n",
    "\n",
    "#Distribution of the average price:\n",
    "plt.bar(tempNames,tempPrime)\n",
    "plt.title('Distribution of average price for various types of Patios')\n",
    "plt.show()\n",
    "\n",
    "\n",
    "\n",
    "\n",
    "\n",
    "    \n"
   ]
  },
  {
   "cell_type": "code",
   "execution_count": 391,
   "metadata": {},
   "outputs": [
    {
     "data": {
      "text/plain": [
       "[None]"
      ]
     },
     "execution_count": 391,
     "metadata": {},
     "output_type": "execute_result"
    }
   ],
   "source": [
    "temp=[13,14,15]\n",
    "[temp.remove(i) for i in temp if i==13]"
   ]
  },
  {
   "cell_type": "code",
   "execution_count": 392,
   "metadata": {},
   "outputs": [
    {
     "data": {
      "text/plain": [
       "[14, 15]"
      ]
     },
     "execution_count": 392,
     "metadata": {},
     "output_type": "execute_result"
    }
   ],
   "source": [
    "temp"
   ]
  },
  {
   "cell_type": "code",
   "execution_count": null,
   "metadata": {},
   "outputs": [],
   "source": []
  }
 ],
 "metadata": {
  "kernelspec": {
   "display_name": "Python 3",
   "language": "python",
   "name": "python3"
  },
  "language_info": {
   "codemirror_mode": {
    "name": "ipython",
    "version": 3
   },
   "file_extension": ".py",
   "mimetype": "text/x-python",
   "name": "python",
   "nbconvert_exporter": "python",
   "pygments_lexer": "ipython3",
   "version": "3.7.3"
  }
 },
 "nbformat": 4,
 "nbformat_minor": 2
}
